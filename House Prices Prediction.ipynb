{
 "cells": [
  {
   "cell_type": "markdown",
   "id": "6404857e",
   "metadata": {},
   "source": [
    "## Housing Prices Prediction \n",
    "\n",
    "\n",
    "##### Competition for Kaggle Learn Users"
   ]
  },
  {
   "cell_type": "markdown",
   "id": "fb99c98c",
   "metadata": {},
   "source": [
    "This code is a simple practical appliction of predicting house prices using simple machine learning model. "
   ]
  },
  {
   "cell_type": "markdown",
   "id": "1e01466f",
   "metadata": {},
   "source": [
    "##### Steps: \n",
    "    1- Read datasets. \n",
    "    2- define the predictor variables and target variable (SalePrice). \n",
    "    3- split the train and validition data.\n",
    "    4- define different random forest models to compare their results. \n",
    "    5- fit training data to the models and select the best model. \n",
    "    6- make prediction on the test data and save the results to a csv file. "
   ]
  },
  {
   "cell_type": "markdown",
   "id": "7f544a2e",
   "metadata": {},
   "source": [
    "## Step 1: Read Datasets"
   ]
  },
  {
   "cell_type": "code",
   "execution_count": 1,
   "id": "44c5fae1",
   "metadata": {
    "execution": {
     "iopub.execute_input": "2021-08-18T20:29:50.281699Z",
     "iopub.status.busy": "2021-08-18T20:29:50.280999Z",
     "iopub.status.idle": "2021-08-18T20:29:50.373025Z",
     "shell.execute_reply": "2021-08-18T20:29:50.372451Z",
     "shell.execute_reply.started": "2021-08-18T20:26:07.809244Z"
    },
    "papermill": {
     "duration": 0.115385,
     "end_time": "2021-08-18T20:29:50.373177",
     "exception": false,
     "start_time": "2021-08-18T20:29:50.257792",
     "status": "completed"
    },
    "tags": []
   },
   "outputs": [],
   "source": [
    "# import necessary packages \n",
    "\n",
    "import pandas as pd\n",
    "from sklearn.model_selection import train_test_split\n",
    "\n",
    "# Read the data\n",
    "X_full = pd.read_csv(r'C:\\Users\\MohammedAlKhowaiter\\Downloads\\train.csv', index_col='Id')\n",
    "X_test_full = pd.read_csv(r'C:\\Users\\MohammedAlKhowaiter\\Downloads\\test.csv', index_col='Id')\n",
    "\n"
   ]
  },
  {
   "cell_type": "markdown",
   "id": "7c23198c",
   "metadata": {},
   "source": [
    "## Step 2: Define variables"
   ]
  },
  {
   "cell_type": "code",
   "execution_count": 2,
   "id": "f0d0a924",
   "metadata": {},
   "outputs": [],
   "source": [
    "# Obtain target and predictors\n",
    "y = X_full.SalePrice\n",
    "features = ['LotArea', 'YearBuilt', '1stFlrSF', '2ndFlrSF', 'FullBath', 'BedroomAbvGr', 'TotRmsAbvGrd']\n",
    "X = X_full[features].copy()\n",
    "\n",
    "\n",
    "X_test = X_test_full[features].copy()\n"
   ]
  },
  {
   "cell_type": "markdown",
   "id": "7cf34fed",
   "metadata": {},
   "source": [
    "## Step 3: split the data"
   ]
  },
  {
   "cell_type": "code",
   "execution_count": 3,
   "id": "399fed7e",
   "metadata": {},
   "outputs": [],
   "source": [
    "# Break off validation set from training data\n",
    "X_train, X_valid, y_train, y_valid = train_test_split(X, y, train_size=0.8, test_size=0.2,\n",
    "                                                      random_state=0)"
   ]
  },
  {
   "cell_type": "markdown",
   "id": "864eadaa",
   "metadata": {
    "papermill": {
     "duration": 0.014667,
     "end_time": "2021-08-18T20:29:50.402969",
     "exception": false,
     "start_time": "2021-08-18T20:29:50.388302",
     "status": "completed"
    },
    "tags": []
   },
   "source": [
    "Use the next cell to print the first several rows of the data. It's a nice way to get an overview of the data you will use in your price prediction model."
   ]
  },
  {
   "cell_type": "code",
   "execution_count": 4,
   "id": "7be295af",
   "metadata": {
    "execution": {
     "iopub.execute_input": "2021-08-18T20:29:50.437055Z",
     "iopub.status.busy": "2021-08-18T20:29:50.436041Z",
     "iopub.status.idle": "2021-08-18T20:29:50.460519Z",
     "shell.execute_reply": "2021-08-18T20:29:50.459967Z",
     "shell.execute_reply.started": "2021-08-18T20:26:52.663338Z"
    },
    "papermill": {
     "duration": 0.04262,
     "end_time": "2021-08-18T20:29:50.460686",
     "exception": false,
     "start_time": "2021-08-18T20:29:50.418066",
     "status": "completed"
    },
    "tags": []
   },
   "outputs": [
    {
     "data": {
      "text/html": [
       "<div>\n",
       "<style scoped>\n",
       "    .dataframe tbody tr th:only-of-type {\n",
       "        vertical-align: middle;\n",
       "    }\n",
       "\n",
       "    .dataframe tbody tr th {\n",
       "        vertical-align: top;\n",
       "    }\n",
       "\n",
       "    .dataframe thead th {\n",
       "        text-align: right;\n",
       "    }\n",
       "</style>\n",
       "<table border=\"1\" class=\"dataframe\">\n",
       "  <thead>\n",
       "    <tr style=\"text-align: right;\">\n",
       "      <th></th>\n",
       "      <th>LotArea</th>\n",
       "      <th>YearBuilt</th>\n",
       "      <th>1stFlrSF</th>\n",
       "      <th>2ndFlrSF</th>\n",
       "      <th>FullBath</th>\n",
       "      <th>BedroomAbvGr</th>\n",
       "      <th>TotRmsAbvGrd</th>\n",
       "    </tr>\n",
       "    <tr>\n",
       "      <th>Id</th>\n",
       "      <th></th>\n",
       "      <th></th>\n",
       "      <th></th>\n",
       "      <th></th>\n",
       "      <th></th>\n",
       "      <th></th>\n",
       "      <th></th>\n",
       "    </tr>\n",
       "  </thead>\n",
       "  <tbody>\n",
       "    <tr>\n",
       "      <th>619</th>\n",
       "      <td>11694</td>\n",
       "      <td>2007</td>\n",
       "      <td>1828</td>\n",
       "      <td>0</td>\n",
       "      <td>2</td>\n",
       "      <td>3</td>\n",
       "      <td>9</td>\n",
       "    </tr>\n",
       "    <tr>\n",
       "      <th>871</th>\n",
       "      <td>6600</td>\n",
       "      <td>1962</td>\n",
       "      <td>894</td>\n",
       "      <td>0</td>\n",
       "      <td>1</td>\n",
       "      <td>2</td>\n",
       "      <td>5</td>\n",
       "    </tr>\n",
       "    <tr>\n",
       "      <th>93</th>\n",
       "      <td>13360</td>\n",
       "      <td>1921</td>\n",
       "      <td>964</td>\n",
       "      <td>0</td>\n",
       "      <td>1</td>\n",
       "      <td>2</td>\n",
       "      <td>5</td>\n",
       "    </tr>\n",
       "    <tr>\n",
       "      <th>818</th>\n",
       "      <td>13265</td>\n",
       "      <td>2002</td>\n",
       "      <td>1689</td>\n",
       "      <td>0</td>\n",
       "      <td>2</td>\n",
       "      <td>3</td>\n",
       "      <td>7</td>\n",
       "    </tr>\n",
       "    <tr>\n",
       "      <th>303</th>\n",
       "      <td>13704</td>\n",
       "      <td>2001</td>\n",
       "      <td>1541</td>\n",
       "      <td>0</td>\n",
       "      <td>2</td>\n",
       "      <td>3</td>\n",
       "      <td>6</td>\n",
       "    </tr>\n",
       "  </tbody>\n",
       "</table>\n",
       "</div>"
      ],
      "text/plain": [
       "     LotArea  YearBuilt  1stFlrSF  2ndFlrSF  FullBath  BedroomAbvGr  \\\n",
       "Id                                                                    \n",
       "619    11694       2007      1828         0         2             3   \n",
       "871     6600       1962       894         0         1             2   \n",
       "93     13360       1921       964         0         1             2   \n",
       "818    13265       2002      1689         0         2             3   \n",
       "303    13704       2001      1541         0         2             3   \n",
       "\n",
       "     TotRmsAbvGrd  \n",
       "Id                 \n",
       "619             9  \n",
       "871             5  \n",
       "93              5  \n",
       "818             7  \n",
       "303             6  "
      ]
     },
     "execution_count": 4,
     "metadata": {},
     "output_type": "execute_result"
    }
   ],
   "source": [
    "X_train.head()"
   ]
  },
  {
   "cell_type": "code",
   "execution_count": 5,
   "id": "4167d2be",
   "metadata": {},
   "outputs": [
    {
     "name": "stdout",
     "output_type": "stream",
     "text": [
      "<class 'pandas.core.frame.DataFrame'>\n",
      "Int64Index: 1460 entries, 1 to 1460\n",
      "Data columns (total 80 columns):\n",
      " #   Column         Non-Null Count  Dtype  \n",
      "---  ------         --------------  -----  \n",
      " 0   MSSubClass     1460 non-null   int64  \n",
      " 1   MSZoning       1460 non-null   object \n",
      " 2   LotFrontage    1201 non-null   float64\n",
      " 3   LotArea        1460 non-null   int64  \n",
      " 4   Street         1460 non-null   object \n",
      " 5   Alley          91 non-null     object \n",
      " 6   LotShape       1460 non-null   object \n",
      " 7   LandContour    1460 non-null   object \n",
      " 8   Utilities      1460 non-null   object \n",
      " 9   LotConfig      1460 non-null   object \n",
      " 10  LandSlope      1460 non-null   object \n",
      " 11  Neighborhood   1460 non-null   object \n",
      " 12  Condition1     1460 non-null   object \n",
      " 13  Condition2     1460 non-null   object \n",
      " 14  BldgType       1460 non-null   object \n",
      " 15  HouseStyle     1460 non-null   object \n",
      " 16  OverallQual    1460 non-null   int64  \n",
      " 17  OverallCond    1460 non-null   int64  \n",
      " 18  YearBuilt      1460 non-null   int64  \n",
      " 19  YearRemodAdd   1460 non-null   int64  \n",
      " 20  RoofStyle      1460 non-null   object \n",
      " 21  RoofMatl       1460 non-null   object \n",
      " 22  Exterior1st    1460 non-null   object \n",
      " 23  Exterior2nd    1460 non-null   object \n",
      " 24  MasVnrType     1452 non-null   object \n",
      " 25  MasVnrArea     1452 non-null   float64\n",
      " 26  ExterQual      1460 non-null   object \n",
      " 27  ExterCond      1460 non-null   object \n",
      " 28  Foundation     1460 non-null   object \n",
      " 29  BsmtQual       1423 non-null   object \n",
      " 30  BsmtCond       1423 non-null   object \n",
      " 31  BsmtExposure   1422 non-null   object \n",
      " 32  BsmtFinType1   1423 non-null   object \n",
      " 33  BsmtFinSF1     1460 non-null   int64  \n",
      " 34  BsmtFinType2   1422 non-null   object \n",
      " 35  BsmtFinSF2     1460 non-null   int64  \n",
      " 36  BsmtUnfSF      1460 non-null   int64  \n",
      " 37  TotalBsmtSF    1460 non-null   int64  \n",
      " 38  Heating        1460 non-null   object \n",
      " 39  HeatingQC      1460 non-null   object \n",
      " 40  CentralAir     1460 non-null   object \n",
      " 41  Electrical     1459 non-null   object \n",
      " 42  1stFlrSF       1460 non-null   int64  \n",
      " 43  2ndFlrSF       1460 non-null   int64  \n",
      " 44  LowQualFinSF   1460 non-null   int64  \n",
      " 45  GrLivArea      1460 non-null   int64  \n",
      " 46  BsmtFullBath   1460 non-null   int64  \n",
      " 47  BsmtHalfBath   1460 non-null   int64  \n",
      " 48  FullBath       1460 non-null   int64  \n",
      " 49  HalfBath       1460 non-null   int64  \n",
      " 50  BedroomAbvGr   1460 non-null   int64  \n",
      " 51  KitchenAbvGr   1460 non-null   int64  \n",
      " 52  KitchenQual    1460 non-null   object \n",
      " 53  TotRmsAbvGrd   1460 non-null   int64  \n",
      " 54  Functional     1460 non-null   object \n",
      " 55  Fireplaces     1460 non-null   int64  \n",
      " 56  FireplaceQu    770 non-null    object \n",
      " 57  GarageType     1379 non-null   object \n",
      " 58  GarageYrBlt    1379 non-null   float64\n",
      " 59  GarageFinish   1379 non-null   object \n",
      " 60  GarageCars     1460 non-null   int64  \n",
      " 61  GarageArea     1460 non-null   int64  \n",
      " 62  GarageQual     1379 non-null   object \n",
      " 63  GarageCond     1379 non-null   object \n",
      " 64  PavedDrive     1460 non-null   object \n",
      " 65  WoodDeckSF     1460 non-null   int64  \n",
      " 66  OpenPorchSF    1460 non-null   int64  \n",
      " 67  EnclosedPorch  1460 non-null   int64  \n",
      " 68  3SsnPorch      1460 non-null   int64  \n",
      " 69  ScreenPorch    1460 non-null   int64  \n",
      " 70  PoolArea       1460 non-null   int64  \n",
      " 71  PoolQC         7 non-null      object \n",
      " 72  Fence          281 non-null    object \n",
      " 73  MiscFeature    54 non-null     object \n",
      " 74  MiscVal        1460 non-null   int64  \n",
      " 75  MoSold         1460 non-null   int64  \n",
      " 76  YrSold         1460 non-null   int64  \n",
      " 77  SaleType       1460 non-null   object \n",
      " 78  SaleCondition  1460 non-null   object \n",
      " 79  SalePrice      1460 non-null   int64  \n",
      "dtypes: float64(3), int64(34), object(43)\n",
      "memory usage: 923.9+ KB\n",
      "<class 'pandas.core.frame.DataFrame'>\n",
      "Int64Index: 1168 entries, 619 to 685\n",
      "Data columns (total 7 columns):\n",
      " #   Column        Non-Null Count  Dtype\n",
      "---  ------        --------------  -----\n",
      " 0   LotArea       1168 non-null   int64\n",
      " 1   YearBuilt     1168 non-null   int64\n",
      " 2   1stFlrSF      1168 non-null   int64\n",
      " 3   2ndFlrSF      1168 non-null   int64\n",
      " 4   FullBath      1168 non-null   int64\n",
      " 5   BedroomAbvGr  1168 non-null   int64\n",
      " 6   TotRmsAbvGrd  1168 non-null   int64\n",
      "dtypes: int64(7)\n",
      "memory usage: 73.0 KB\n",
      "<class 'pandas.core.frame.DataFrame'>\n",
      "Int64Index: 292 entries, 530 to 62\n",
      "Data columns (total 7 columns):\n",
      " #   Column        Non-Null Count  Dtype\n",
      "---  ------        --------------  -----\n",
      " 0   LotArea       292 non-null    int64\n",
      " 1   YearBuilt     292 non-null    int64\n",
      " 2   1stFlrSF      292 non-null    int64\n",
      " 3   2ndFlrSF      292 non-null    int64\n",
      " 4   FullBath      292 non-null    int64\n",
      " 5   BedroomAbvGr  292 non-null    int64\n",
      " 6   TotRmsAbvGrd  292 non-null    int64\n",
      "dtypes: int64(7)\n",
      "memory usage: 18.2 KB\n",
      "<class 'pandas.core.frame.DataFrame'>\n",
      "Int64Index: 1459 entries, 1461 to 2919\n",
      "Data columns (total 7 columns):\n",
      " #   Column        Non-Null Count  Dtype\n",
      "---  ------        --------------  -----\n",
      " 0   LotArea       1459 non-null   int64\n",
      " 1   YearBuilt     1459 non-null   int64\n",
      " 2   1stFlrSF      1459 non-null   int64\n",
      " 3   2ndFlrSF      1459 non-null   int64\n",
      " 4   FullBath      1459 non-null   int64\n",
      " 5   BedroomAbvGr  1459 non-null   int64\n",
      " 6   TotRmsAbvGrd  1459 non-null   int64\n",
      "dtypes: int64(7)\n",
      "memory usage: 91.2 KB\n"
     ]
    }
   ],
   "source": [
    "X_full.info()\n",
    "X_train.info()\n",
    "X_valid.info()\n",
    "X_test.info()"
   ]
  },
  {
   "cell_type": "markdown",
   "id": "7ab39fb1",
   "metadata": {},
   "source": [
    "## Step 4: Define several models to compare their results"
   ]
  },
  {
   "cell_type": "markdown",
   "id": "2ffd33ad",
   "metadata": {
    "papermill": {
     "duration": 0.015183,
     "end_time": "2021-08-18T20:29:50.491479",
     "exception": false,
     "start_time": "2021-08-18T20:29:50.476296",
     "status": "completed"
    },
    "tags": []
   },
   "source": [
    "The next code defines five different random forest models."
   ]
  },
  {
   "cell_type": "code",
   "execution_count": 6,
   "id": "41f21aee",
   "metadata": {
    "execution": {
     "iopub.execute_input": "2021-08-18T20:29:50.530272Z",
     "iopub.status.busy": "2021-08-18T20:29:50.529241Z",
     "iopub.status.idle": "2021-08-18T20:29:50.531589Z",
     "shell.execute_reply": "2021-08-18T20:29:50.532192Z",
     "shell.execute_reply.started": "2021-08-18T20:27:11.527439Z"
    },
    "papermill": {
     "duration": 0.025277,
     "end_time": "2021-08-18T20:29:50.532365",
     "exception": false,
     "start_time": "2021-08-18T20:29:50.507088",
     "status": "completed"
    },
    "tags": []
   },
   "outputs": [],
   "source": [
    "from sklearn.ensemble import RandomForestRegressor\n",
    "\n",
    "# Define the models\n",
    "model_1 = RandomForestRegressor(n_estimators=50, random_state=0)\n",
    "model_2 = RandomForestRegressor(n_estimators=100, random_state=0)\n",
    "model_3 = RandomForestRegressor(n_estimators=100, criterion='mae', random_state=0)\n",
    "model_4 = RandomForestRegressor(n_estimators=200, min_samples_split=20, random_state=0)\n",
    "model_5 = RandomForestRegressor(n_estimators=100, max_depth=7, random_state=0)\n",
    "\n",
    "models = [model_1, model_2, model_3, model_4, model_5]"
   ]
  },
  {
   "cell_type": "markdown",
   "id": "183f7488",
   "metadata": {},
   "source": [
    "## Step 5: Fit the training data to the models"
   ]
  },
  {
   "cell_type": "markdown",
   "id": "2c374f8c",
   "metadata": {
    "papermill": {
     "duration": 0.015485,
     "end_time": "2021-08-18T20:29:50.563392",
     "exception": false,
     "start_time": "2021-08-18T20:29:50.547907",
     "status": "completed"
    },
    "tags": []
   },
   "source": [
    "To select the best model out of the five, we define a function `score_model()` below.  This function returns the mean absolute error (MAE) from the validation set."
   ]
  },
  {
   "cell_type": "code",
   "execution_count": 7,
   "id": "f563ab0b",
   "metadata": {
    "execution": {
     "iopub.execute_input": "2021-08-18T20:29:50.599498Z",
     "iopub.status.busy": "2021-08-18T20:29:50.598484Z",
     "iopub.status.idle": "2021-08-18T20:29:55.867380Z",
     "shell.execute_reply": "2021-08-18T20:29:55.866783Z",
     "shell.execute_reply.started": "2021-08-18T20:27:55.543780Z"
    },
    "papermill": {
     "duration": 5.287593,
     "end_time": "2021-08-18T20:29:55.867561",
     "exception": false,
     "start_time": "2021-08-18T20:29:50.579968",
     "status": "completed"
    },
    "tags": []
   },
   "outputs": [
    {
     "name": "stdout",
     "output_type": "stream",
     "text": [
      "Model 1 MAE: 24015\n",
      "Model 2 MAE: 23740\n",
      "Model 3 MAE: 23528\n",
      "Model 4 MAE: 23996\n",
      "Model 5 MAE: 23706\n"
     ]
    }
   ],
   "source": [
    "from sklearn.metrics import mean_absolute_error\n",
    "\n",
    "# Function for comparing different models\n",
    "def score_model(model, X_t=X_train, X_v=X_valid, y_t=y_train, y_v=y_valid):\n",
    "    model.fit(X_t, y_t)\n",
    "    preds = model.predict(X_v)\n",
    "    return mean_absolute_error(y_v, preds)\n",
    "\n",
    "for i in range(0, len(models)):\n",
    "    mae = score_model(models[i])\n",
    "    print(\"Model %d MAE: %d\" % (i+1, mae))"
   ]
  },
  {
   "cell_type": "markdown",
   "id": "c8668747",
   "metadata": {
    "papermill": {
     "duration": 0.017597,
     "end_time": "2021-08-18T20:29:55.903031",
     "exception": false,
     "start_time": "2021-08-18T20:29:55.885434",
     "status": "completed"
    },
    "tags": []
   },
   "source": [
    "# Step 6: Evaluate several models\n",
    "\n",
    "Using the above results, model 3 has the lowest Mea value."
   ]
  },
  {
   "cell_type": "markdown",
   "id": "a075152d",
   "metadata": {
    "papermill": {
     "duration": 0.018108,
     "end_time": "2021-08-18T20:29:56.035871",
     "exception": false,
     "start_time": "2021-08-18T20:29:56.017763",
     "status": "completed"
    },
    "tags": []
   },
   "source": [
    "# Step 7: Generate test predictions\n",
    "\n",
    "Now it's time to go through the modeling process and make predictions. \n",
    "In the line below, create a Random Forest model with the variable name `my_model`."
   ]
  },
  {
   "cell_type": "code",
   "execution_count": 14,
   "id": "d0bb7607",
   "metadata": {
    "execution": {
     "iopub.execute_input": "2021-08-18T20:29:56.080225Z",
     "iopub.status.busy": "2021-08-18T20:29:56.079409Z",
     "iopub.status.idle": "2021-08-18T20:29:56.085494Z",
     "shell.execute_reply": "2021-08-18T20:29:56.086058Z",
     "shell.execute_reply.started": "2021-08-18T20:29:01.018000Z"
    },
    "papermill": {
     "duration": 0.031833,
     "end_time": "2021-08-18T20:29:56.086274",
     "exception": false,
     "start_time": "2021-08-18T20:29:56.054441",
     "status": "completed"
    },
    "tags": []
   },
   "outputs": [],
   "source": [
    "# Define a model\n",
    "my_model = RandomForestRegressor(n_estimators=100, criterion='mae', random_state=0)\n",
    " \n",
    "    \n",
    "# Fit the model to the training data\n",
    "my_model.fit(X, y)\n",
    "\n",
    "# Generate test predictions\n",
    "preds_test = my_model.predict(X_test)"
   ]
  },
  {
   "cell_type": "code",
   "execution_count": 16,
   "id": "cf77e59b",
   "metadata": {},
   "outputs": [
    {
     "name": "stdout",
     "output_type": "stream",
     "text": [
      "[119433.08 158367.5  185351.21 ... 156296.92 132232.5  230870.6 ]\n"
     ]
    }
   ],
   "source": [
    "print(preds_test)"
   ]
  },
  {
   "cell_type": "code",
   "execution_count": 17,
   "id": "f1b332e9",
   "metadata": {},
   "outputs": [
    {
     "name": "stdout",
     "output_type": "stream",
     "text": [
      "      MSSubClass MSZoning  LotFrontage  LotArea Street Alley LotShape  \\\n",
      "Id                                                                      \n",
      "1461          20       RH         80.0    11622   Pave   NaN      Reg   \n",
      "1462          20       RL         81.0    14267   Pave   NaN      IR1   \n",
      "1463          60       RL         74.0    13830   Pave   NaN      IR1   \n",
      "1464          60       RL         78.0     9978   Pave   NaN      IR1   \n",
      "1465         120       RL         43.0     5005   Pave   NaN      IR1   \n",
      "\n",
      "     LandContour Utilities LotConfig  ... PoolArea PoolQC  Fence MiscFeature  \\\n",
      "Id                                    ...                                      \n",
      "1461         Lvl    AllPub    Inside  ...        0    NaN  MnPrv         NaN   \n",
      "1462         Lvl    AllPub    Corner  ...        0    NaN    NaN        Gar2   \n",
      "1463         Lvl    AllPub    Inside  ...        0    NaN  MnPrv         NaN   \n",
      "1464         Lvl    AllPub    Inside  ...        0    NaN    NaN         NaN   \n",
      "1465         HLS    AllPub    Inside  ...        0    NaN    NaN         NaN   \n",
      "\n",
      "     MiscVal MoSold  YrSold  SaleType  SaleCondition  SalePrice  \n",
      "Id                                                               \n",
      "1461       0      6    2010        WD         Normal  119433.08  \n",
      "1462   12500      6    2010        WD         Normal  158367.50  \n",
      "1463       0      3    2010        WD         Normal  185351.21  \n",
      "1464       0      6    2010        WD         Normal  178343.12  \n",
      "1465       0      1    2010        WD         Normal  192898.29  \n",
      "\n",
      "[5 rows x 80 columns]\n"
     ]
    }
   ],
   "source": [
    "X_test_full['SalePrice'] = preds_test\n",
    "print(X_test_full.head())"
   ]
  },
  {
   "cell_type": "code",
   "execution_count": 18,
   "id": "1872b23d",
   "metadata": {},
   "outputs": [
    {
     "name": "stdout",
     "output_type": "stream",
     "text": [
      "<class 'pandas.core.frame.DataFrame'>\n",
      "Int64Index: 1459 entries, 1461 to 2919\n",
      "Data columns (total 80 columns):\n",
      " #   Column         Non-Null Count  Dtype  \n",
      "---  ------         --------------  -----  \n",
      " 0   MSSubClass     1459 non-null   int64  \n",
      " 1   MSZoning       1455 non-null   object \n",
      " 2   LotFrontage    1232 non-null   float64\n",
      " 3   LotArea        1459 non-null   int64  \n",
      " 4   Street         1459 non-null   object \n",
      " 5   Alley          107 non-null    object \n",
      " 6   LotShape       1459 non-null   object \n",
      " 7   LandContour    1459 non-null   object \n",
      " 8   Utilities      1457 non-null   object \n",
      " 9   LotConfig      1459 non-null   object \n",
      " 10  LandSlope      1459 non-null   object \n",
      " 11  Neighborhood   1459 non-null   object \n",
      " 12  Condition1     1459 non-null   object \n",
      " 13  Condition2     1459 non-null   object \n",
      " 14  BldgType       1459 non-null   object \n",
      " 15  HouseStyle     1459 non-null   object \n",
      " 16  OverallQual    1459 non-null   int64  \n",
      " 17  OverallCond    1459 non-null   int64  \n",
      " 18  YearBuilt      1459 non-null   int64  \n",
      " 19  YearRemodAdd   1459 non-null   int64  \n",
      " 20  RoofStyle      1459 non-null   object \n",
      " 21  RoofMatl       1459 non-null   object \n",
      " 22  Exterior1st    1458 non-null   object \n",
      " 23  Exterior2nd    1458 non-null   object \n",
      " 24  MasVnrType     1443 non-null   object \n",
      " 25  MasVnrArea     1444 non-null   float64\n",
      " 26  ExterQual      1459 non-null   object \n",
      " 27  ExterCond      1459 non-null   object \n",
      " 28  Foundation     1459 non-null   object \n",
      " 29  BsmtQual       1415 non-null   object \n",
      " 30  BsmtCond       1414 non-null   object \n",
      " 31  BsmtExposure   1415 non-null   object \n",
      " 32  BsmtFinType1   1417 non-null   object \n",
      " 33  BsmtFinSF1     1458 non-null   float64\n",
      " 34  BsmtFinType2   1417 non-null   object \n",
      " 35  BsmtFinSF2     1458 non-null   float64\n",
      " 36  BsmtUnfSF      1458 non-null   float64\n",
      " 37  TotalBsmtSF    1458 non-null   float64\n",
      " 38  Heating        1459 non-null   object \n",
      " 39  HeatingQC      1459 non-null   object \n",
      " 40  CentralAir     1459 non-null   object \n",
      " 41  Electrical     1459 non-null   object \n",
      " 42  1stFlrSF       1459 non-null   int64  \n",
      " 43  2ndFlrSF       1459 non-null   int64  \n",
      " 44  LowQualFinSF   1459 non-null   int64  \n",
      " 45  GrLivArea      1459 non-null   int64  \n",
      " 46  BsmtFullBath   1457 non-null   float64\n",
      " 47  BsmtHalfBath   1457 non-null   float64\n",
      " 48  FullBath       1459 non-null   int64  \n",
      " 49  HalfBath       1459 non-null   int64  \n",
      " 50  BedroomAbvGr   1459 non-null   int64  \n",
      " 51  KitchenAbvGr   1459 non-null   int64  \n",
      " 52  KitchenQual    1458 non-null   object \n",
      " 53  TotRmsAbvGrd   1459 non-null   int64  \n",
      " 54  Functional     1457 non-null   object \n",
      " 55  Fireplaces     1459 non-null   int64  \n",
      " 56  FireplaceQu    729 non-null    object \n",
      " 57  GarageType     1383 non-null   object \n",
      " 58  GarageYrBlt    1381 non-null   float64\n",
      " 59  GarageFinish   1381 non-null   object \n",
      " 60  GarageCars     1458 non-null   float64\n",
      " 61  GarageArea     1458 non-null   float64\n",
      " 62  GarageQual     1381 non-null   object \n",
      " 63  GarageCond     1381 non-null   object \n",
      " 64  PavedDrive     1459 non-null   object \n",
      " 65  WoodDeckSF     1459 non-null   int64  \n",
      " 66  OpenPorchSF    1459 non-null   int64  \n",
      " 67  EnclosedPorch  1459 non-null   int64  \n",
      " 68  3SsnPorch      1459 non-null   int64  \n",
      " 69  ScreenPorch    1459 non-null   int64  \n",
      " 70  PoolArea       1459 non-null   int64  \n",
      " 71  PoolQC         3 non-null      object \n",
      " 72  Fence          290 non-null    object \n",
      " 73  MiscFeature    51 non-null     object \n",
      " 74  MiscVal        1459 non-null   int64  \n",
      " 75  MoSold         1459 non-null   int64  \n",
      " 76  YrSold         1459 non-null   int64  \n",
      " 77  SaleType       1458 non-null   object \n",
      " 78  SaleCondition  1459 non-null   object \n",
      " 79  SalePrice      1459 non-null   float64\n",
      "dtypes: float64(12), int64(25), object(43)\n",
      "memory usage: 923.3+ KB\n"
     ]
    }
   ],
   "source": [
    "X_test_full.info()"
   ]
  },
  {
   "cell_type": "markdown",
   "id": "890f9681",
   "metadata": {},
   "source": [
    "## Step 8: Save predictions in csv format"
   ]
  },
  {
   "cell_type": "code",
   "execution_count": 20,
   "id": "45a0cc1e",
   "metadata": {
    "execution": {
     "iopub.execute_input": "2021-08-18T20:29:56.238201Z",
     "iopub.status.busy": "2021-08-18T20:29:56.221943Z",
     "iopub.status.idle": "2021-08-18T20:30:00.812937Z",
     "shell.execute_reply": "2021-08-18T20:30:00.811720Z",
     "shell.execute_reply.started": "2021-08-18T20:29:16.638747Z"
    },
    "papermill": {
     "duration": 4.618626,
     "end_time": "2021-08-18T20:30:00.813124",
     "exception": false,
     "start_time": "2021-08-18T20:29:56.194498",
     "status": "completed"
    },
    "tags": []
   },
   "outputs": [],
   "source": [
    "# Save predictions in csv format\n",
    "X_test_full.to_csv('...\\Final_Result.csv', index=False)"
   ]
  }
 ],
 "metadata": {
  "kernelspec": {
   "display_name": "Python 3",
   "language": "python",
   "name": "python3"
  },
  "language_info": {
   "codemirror_mode": {
    "name": "ipython",
    "version": 3
   },
   "file_extension": ".py",
   "mimetype": "text/x-python",
   "name": "python",
   "nbconvert_exporter": "python",
   "pygments_lexer": "ipython3",
   "version": "3.8.8"
  },
  "papermill": {
   "default_parameters": {},
   "duration": 21.722956,
   "end_time": "2021-08-18T20:30:02.068150",
   "environment_variables": {},
   "exception": null,
   "input_path": "__notebook__.ipynb",
   "output_path": "__notebook__.ipynb",
   "parameters": {},
   "start_time": "2021-08-18T20:29:40.345194",
   "version": "2.3.3"
  }
 },
 "nbformat": 4,
 "nbformat_minor": 5
}
